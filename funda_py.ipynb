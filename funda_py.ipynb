{
  "metadata": {
    "kernelspec": {
      "language": "python",
      "display_name": "Python 3",
      "name": "python3"
    },
    "language_info": {
      "name": "python",
      "version": "3.7.12",
      "mimetype": "text/x-python",
      "codemirror_mode": {
        "name": "ipython",
        "version": 3
      },
      "pygments_lexer": "ipython3",
      "nbconvert_exporter": "python",
      "file_extension": ".py"
    },
    "colab": {
      "provenance": [],
      "include_colab_link": true
    }
  },
  "nbformat_minor": 0,
  "nbformat": 4,
  "cells": [
    {
      "cell_type": "markdown",
      "metadata": {
        "id": "view-in-github",
        "colab_type": "text"
      },
      "source": [
        "<a href=\"https://colab.research.google.com/github/iplfinal/CSKVSGT/blob/main/funda_py.ipynb\" target=\"_parent\"><img src=\"https://colab.research.google.com/assets/colab-badge.svg\" alt=\"Open In Colab\"/></a>"
      ]
    },
    {
      "cell_type": "markdown",
      "source": [
        "#Fundamentals of Python Programming"
      ],
      "metadata": {
        "id": "fbRtRWKB1s3Z"
      }
    },
    {
      "cell_type": "code",
      "source": [
        "#Prob1\n",
        "\n",
        "yourname = input(\"Enter your name:\")\n",
        "hobby=input(\"Enter your hobby:\")\n",
        "print(f\"My name is {yourname}, I like to {hobby}.\")"
      ],
      "metadata": {
        "execution": {
          "iopub.status.busy": "2023-01-12T04:43:20.944964Z",
          "iopub.execute_input": "2023-01-12T04:43:20.945749Z",
          "iopub.status.idle": "2023-01-12T04:44:02.937994Z",
          "shell.execute_reply.started": "2023-01-12T04:43:20.945656Z",
          "shell.execute_reply": "2023-01-12T04:44:02.937045Z"
        },
        "trusted": true,
        "id": "KVVuY7MWrRhK",
        "outputId": "f213591f-dcf7-4890-d213-e944f1b71769",
        "colab": {
          "base_uri": "https://localhost:8080/"
        }
      },
      "execution_count": null,
      "outputs": [
        {
          "output_type": "stream",
          "name": "stdout",
          "text": [
            "Enter your name:Sarvesh\n",
            "Enter your hobby:swim\n",
            "My name is Sarvesh, I like to swim.\n"
          ]
        }
      ]
    },
    {
      "cell_type": "code",
      "source": [
        "#2\n",
        "\n",
        "from datetime import datetime\n",
        "date = datetime.now()\n",
        "year = date.year\n",
        "month = date.month\n",
        "print(f\"Date: {date}\")\n",
        "print(f\"Year: {year}\")\n",
        "print(f\"Month: {month}\")\n",
        "\n",
        "year=int(date.year)\n",
        "if((year%4==0 and year%100!=0)  or year%400==0):\n",
        "    print(f\"{year} is a leap year\")\n",
        "else:\n",
        "    print (f\"{year} is not a leap year\")"
      ],
      "metadata": {
        "execution": {
          "iopub.status.busy": "2023-01-12T04:53:47.236818Z",
          "iopub.execute_input": "2023-01-12T04:53:47.237291Z",
          "iopub.status.idle": "2023-01-12T04:53:47.243722Z",
          "shell.execute_reply.started": "2023-01-12T04:53:47.237249Z",
          "shell.execute_reply": "2023-01-12T04:53:47.242490Z"
        },
        "trusted": true,
        "id": "BHoBM8m_rRhM",
        "outputId": "9ba8aef9-190d-4333-feb6-67e0b695b4f6",
        "colab": {
          "base_uri": "https://localhost:8080/"
        }
      },
      "execution_count": null,
      "outputs": [
        {
          "output_type": "stream",
          "name": "stdout",
          "text": [
            "Date: 2023-03-07 20:46:54.871508\n",
            "Year: 2023\n",
            "Month: 3\n",
            "2023 is not a leap year\n"
          ]
        }
      ]
    },
    {
      "cell_type": "code",
      "source": [
        "#Prob3\n",
        "\n",
        "def sum(lst):\n",
        "    sum=0\n",
        "    for i in lst:\n",
        "        sum+=i\n",
        "    return sum\n",
        "\n",
        "\n",
        "itr=int(input(\"Enter the number of elements: \"))\n",
        "totalSum=[0]*itr\n",
        "for j in range(itr):\n",
        "    totalSum[j]=int (input(f\"Enter the {j} element \"))\n",
        "\n",
        "sum(totalSum)"
      ],
      "metadata": {
        "execution": {
          "iopub.status.busy": "2023-01-12T05:18:19.791796Z",
          "iopub.execute_input": "2023-01-12T05:18:19.792245Z",
          "iopub.status.idle": "2023-01-12T05:18:23.725823Z",
          "shell.execute_reply.started": "2023-01-12T05:18:19.792212Z",
          "shell.execute_reply": "2023-01-12T05:18:23.724726Z"
        },
        "trusted": true,
        "id": "CeGU5I0yrRhO",
        "outputId": "46806011-6942-4f2c-f5c8-e1c6df23b54a",
        "colab": {
          "base_uri": "https://localhost:8080/"
        }
      },
      "execution_count": null,
      "outputs": [
        {
          "name": "stdout",
          "output_type": "stream",
          "text": [
            "Enter the number of elements: 4\n",
            "Enter the 0 element 7\n",
            "Enter the 1 element 8\n",
            "Enter the 2 element 9\n",
            "Enter the 3 element 10\n"
          ]
        },
        {
          "output_type": "execute_result",
          "data": {
            "text/plain": [
              "34"
            ]
          },
          "metadata": {},
          "execution_count": 13
        }
      ]
    },
    {
      "cell_type": "code",
      "source": [
        "#Prob4\n",
        "\n",
        "#1st part\n",
        "\n",
        "list1=[(3,6),(4,7),(5,9),(8,4),(3,1)]\n",
        "list3=sorted(list1)\n",
        "print(list3)"
      ],
      "metadata": {
        "execution": {
          "iopub.status.busy": "2023-01-12T05:19:08.703401Z",
          "iopub.execute_input": "2023-01-12T05:19:08.703810Z",
          "iopub.status.idle": "2023-01-12T05:19:08.709854Z",
          "shell.execute_reply.started": "2023-01-12T05:19:08.703778Z",
          "shell.execute_reply": "2023-01-12T05:19:08.709037Z"
        },
        "trusted": true,
        "id": "Im2prnvkrRhP",
        "outputId": "06c5734f-5685-4b17-e8c1-48b66700be95",
        "colab": {
          "base_uri": "https://localhost:8080/"
        }
      },
      "execution_count": null,
      "outputs": [
        {
          "output_type": "stream",
          "name": "stdout",
          "text": [
            "[(3, 1), (3, 6), (4, 7), (5, 9), (8, 4)]\n"
          ]
        }
      ]
    },
    {
      "cell_type": "code",
      "source": [
        "#2nd Part\n",
        "\n",
        "list1.sort(key=lambda x: x[1])\n",
        "print(list1)"
      ],
      "metadata": {
        "colab": {
          "base_uri": "https://localhost:8080/"
        },
        "id": "3c3uXqA3vuGu",
        "outputId": "de256110-3243-4397-9841-cd48070c361b"
      },
      "execution_count": null,
      "outputs": [
        {
          "output_type": "stream",
          "name": "stdout",
          "text": [
            "[(3, 1), (8, 4), (3, 6), (4, 7), (5, 9)]\n"
          ]
        }
      ]
    }
  ]
}